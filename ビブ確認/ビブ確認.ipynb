{
 "cells": [
  {
   "cell_type": "code",
   "execution_count": 21,
   "metadata": {},
   "outputs": [
    {
     "name": "stdout",
     "output_type": "stream",
     "text": [
      "結果を Bib集計結果.xlsx に保存しました！\n"
     ]
    }
   ],
   "source": [
    "import pandas as pd\n",
    "\n",
    "# Excelファイルのパス\n",
    "file_path = \"第67回東医体スキー競技スタートリスト_大学別.xlsx\"\n",
    "\n",
    "# すべてのシートを対象に、大学ごとのBib番号・Bib枚数を集計する\n",
    "xls = pd.ExcelFile(file_path)\n",
    "bib_summary_all = {}\n",
    "\n",
    "for sheet in xls.sheet_names:\n",
    "    df = pd.read_excel(file_path, sheet_name=sheet)\n",
    "\n",
    "    # bib列のデータ型を確認\n",
    "    df[\"bib\"] = pd.to_numeric(df[\"bib\"], errors=\"coerce\")  # 数値変換し、変換できないものはNaNにする\n",
    "    df = df.dropna(subset=[\"bib\"])  # NaNを削除\n",
    "    df[\"bib\"] = df[\"bib\"].astype(int)  # 整数型に変換\n",
    "    \n",
    "    # \"大学\" 列ごとにグループ化し、\"bib\" 列のリストを作成\n",
    "    grouped = df.groupby(\"大学\")[\"bib\"].apply(lambda x: ', '.join(map(str, x))).reset_index()\n",
    "    \n",
    "    # Bibの枚数を追加\n",
    "    grouped[\"Bib枚数\"] = grouped[\"bib\"].apply(lambda x: len(x.split(', ')))\n",
    "    \n",
    "    # 結果を保存\n",
    "    bib_summary_all[sheet] = grouped\n",
    "\n",
    "# 結果を新しいExcelファイルに保存\n",
    "output_file = \"Bib集計結果.xlsx\"\n",
    "with pd.ExcelWriter(output_file) as writer:\n",
    "    for sheet, df in bib_summary_all.items():\n",
    "        df.to_excel(writer, sheet_name=sheet, index=False)\n",
    "\n",
    "print(f\"結果を {output_file} に保存しました！\")"
   ]
  },
  {
   "cell_type": "code",
   "execution_count": 22,
   "metadata": {},
   "outputs": [
    {
     "name": "stdout",
     "output_type": "stream",
     "text": [
      "すべてのシートで大学番号を追加し、昇順に並び替えました！\n"
     ]
    }
   ],
   "source": [
    "import openpyxl\n",
    "\n",
    "# 大学名と対応番号の辞書\n",
    "university_dict = {\n",
    "    \"北海道大学\": 1, \"弘前大学\": 2, \"東北大学\": 3, \"秋田大学\": 4, \"山形大学\": 5,\n",
    "    \"筑波大学\": 6, \"群馬大学\": 7, \"千葉大学\": 8, \"東京大学\": 9, \"東京科学大学\": 10,\n",
    "    \"新潟大学\": 11, \"山梨大学\": 12, \"信州大学\": 13, \"旭川医科大学\": 14, \"札幌医科大学\": 15,\n",
    "    \"福島県立医科大学\": 16, \"岩手医科大学\": 17, \"東北医科薬科大学\": 18, \"自治医科大学\": 19, \"獨協医科大学\": 20,\n",
    "    \"埼玉医科大学\": 21, \"国際医療福祉大学\": 22, \"杏林大学\": 23, \"慶応義塾大学\": 24, \"順天堂大学\": 25,\n",
    "    \"昭和大学\": 26, \"帝京大学\": 27, \"東京医科大学\": 28, \"東京慈恵会医科大学\": 29, \"東京女子医科大学\": 30,\n",
    "    \"東邦大学\": 31, \"日本大学\": 32, \"日本医科大学\": 33, \"北里大学\": 34, \"聖マリアンナ医科大学\": 35, \"東海大学\": 36\n",
    "}\n",
    "\n",
    "# Excelファイルを読み込み\n",
    "wb = openpyxl.load_workbook(\"Bib集計結果.xlsx\")\n",
    "\n",
    "# すべてのシートを処理\n",
    "for sheet_name in wb.sheetnames:\n",
    "    ws = wb[sheet_name]  # 現在のシートを取得\n",
    "    \n",
    "    # 列を左に追加（A列に大学番号を追加）\n",
    "    ws.insert_cols(1)\n",
    "    \n",
    "    # ヘッダー追加\n",
    "    ws.cell(1, 1).value = \"大学番号\"\n",
    "    \n",
    "    # D列（4列目）の大学名をチェックし、A列（1列目）に番号を入力\n",
    "    for row in range(2, ws.max_row + 1):  # 2行目から最終行まで処理\n",
    "        university_name = ws.cell(row, 2).value  # もともとD列（4列目）だった列が、1列追加でE列（5列目）になる\n",
    "        \n",
    "        if university_name in university_dict:\n",
    "            ws.cell(row, 1).value = university_dict[university_name]  # A列に対応する番号を入力\n",
    "        else:\n",
    "            ws.cell(row, 1).value = \"\"  # 空白にする\n",
    "    \n",
    "    # ソートのためにデータを取得\n",
    "    data = []\n",
    "    for row in range(2, ws.max_row + 1):\n",
    "        num = ws.cell(row, 1).value  # 大学番号\n",
    "        row_values = [ws.cell(row, col).value for col in range(1, ws.max_column + 1)]  # すべての列を取得\n",
    "        if num is not None:\n",
    "            data.append(row_values)\n",
    "\n",
    "    # 大学番号で昇順ソート\n",
    "    data.sort(key=lambda x: x[0])\n",
    "\n",
    "    # 並び替えたデータを書き戻す\n",
    "    for row_idx, row_data in enumerate(data, start=2):\n",
    "        for col_idx, value in enumerate(row_data, start=1):\n",
    "            ws.cell(row_idx, col_idx, value)\n",
    "\n",
    "# 保存\n",
    "wb.save(\"Bib集計結果_並び替え.xlsx\")\n",
    "print(\"すべてのシートで大学番号を追加し、昇順に並び替えました！\")"
   ]
  }
 ],
 "metadata": {
  "kernelspec": {
   "display_name": "myenv",
   "language": "python",
   "name": "python3"
  },
  "language_info": {
   "codemirror_mode": {
    "name": "ipython",
    "version": 3
   },
   "file_extension": ".py",
   "mimetype": "text/x-python",
   "name": "python",
   "nbconvert_exporter": "python",
   "pygments_lexer": "ipython3",
   "version": "3.13.1"
  }
 },
 "nbformat": 4,
 "nbformat_minor": 2
}
