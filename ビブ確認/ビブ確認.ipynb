{
 "cells": [
  {
   "cell_type": "code",
   "execution_count": 8,
   "metadata": {},
   "outputs": [
    {
     "name": "stdout",
     "output_type": "stream",
     "text": [
      "結果を Bib集計結果.xlsx に保存しました！\n"
     ]
    }
   ],
   "source": [
    "import pandas as pd\n",
    "\n",
    "# Excelファイルのパス\n",
    "file_path = \"第67回東医体スキー競技スタートリスト_大学別.xlsx\"\n",
    "\n",
    "# すべてのシートを対象に、大学ごとのBib番号・Bib枚数を集計する\n",
    "xls = pd.ExcelFile(file_path)\n",
    "bib_summary_all = {}\n",
    "\n",
    "for sheet in xls.sheet_names:\n",
    "    df = pd.read_excel(file_path, sheet_name=sheet)\n",
    "\n",
    "    # bib列のデータ型を確認\n",
    "    df[\"bib\"] = pd.to_numeric(df[\"bib\"], errors=\"coerce\")  # 数値変換し、変換できないものはNaNにする\n",
    "    df = df.dropna(subset=[\"bib\"])  # NaNを削除\n",
    "    df[\"bib\"] = df[\"bib\"].astype(int)  # 整数型に変換\n",
    "    \n",
    "    # \"大学\" 列ごとにグループ化し、\"bib\" 列のリストを作成\n",
    "    grouped = df.groupby(\"大学\")[\"bib\"].apply(lambda x: ', '.join(map(str, x))).reset_index()\n",
    "    \n",
    "    # Bibの枚数を追加\n",
    "    grouped[\"Bib枚数\"] = grouped[\"bib\"].apply(lambda x: len(x.split(', ')))\n",
    "    \n",
    "    # 結果を保存\n",
    "    bib_summary_all[sheet] = grouped\n",
    "\n",
    "# 結果を新しいExcelファイルに保存\n",
    "output_file = \"Bib集計結果.xlsx\"\n",
    "with pd.ExcelWriter(output_file) as writer:\n",
    "    for sheet, df in bib_summary_all.items():\n",
    "        df.to_excel(writer, sheet_name=sheet, index=False)\n",
    "\n",
    "print(f\"結果を {output_file} に保存しました！\")"
   ]
  }
 ],
 "metadata": {
  "kernelspec": {
   "display_name": "myenv",
   "language": "python",
   "name": "python3"
  },
  "language_info": {
   "codemirror_mode": {
    "name": "ipython",
    "version": 3
   },
   "file_extension": ".py",
   "mimetype": "text/x-python",
   "name": "python",
   "nbconvert_exporter": "python",
   "pygments_lexer": "ipython3",
   "version": "3.13.1"
  }
 },
 "nbformat": 4,
 "nbformat_minor": 2
}
