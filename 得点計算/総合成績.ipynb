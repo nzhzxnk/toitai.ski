{
 "cells": [
  {
   "cell_type": "code",
   "execution_count": 2,
   "metadata": {},
   "outputs": [
    {
     "name": "stdout",
     "output_type": "stream",
     "text": [
      "データの転記が完了しました！\n"
     ]
    }
   ],
   "source": [
    "import openpyxl\n",
    "\n",
    "# Excelファイルを読み込む\n",
    "wb = openpyxl.load_workbook(\"大学別男女総合成績用.xlsx\")\n",
    "ws = wb[\"1\"]  # 保存先のシート\n",
    "\n",
    "# Excelファイルを読み込む\n",
    "wb_result = openpyxl.load_workbook(\"リザルト1.xlsx\")\n",
    "ws_result = wb_result[\"Sheet1\"]  # データ元ファイル名とシート名\n",
    "\n",
    "# データを転記\n",
    "start_row = 17\n",
    "#リザルトの1位が開始する行\n",
    "num_rows = 20\n",
    "#男子は30女子は20\n",
    "\n",
    "input_row = 4\n",
    "for row in range(start_row, start_row + num_rows):  \n",
    "    ws.cell(input_row, 2).value = ws_result.cell(row,11).value  # 名前\n",
    "    ws.cell(input_row, 4).value = ws_result.cell(row, 18).value  # 学校名\n",
    "    input_row += 1  # 次の行へ\n",
    "\n",
    "# 保存\n",
    "wb.save(\"大学別男女総合成績用.xlsx\")\n",
    "print(\"データの転記が完了しました！\")"
   ]
  },
  {
   "cell_type": "code",
   "execution_count": 7,
   "metadata": {},
   "outputs": [
    {
     "name": "stdout",
     "output_type": "stream",
     "text": [
      "データの転記が完了しました！\n"
     ]
    }
   ],
   "source": [
    "import openpyxl\n",
    "\n",
    "# Excelファイルを読み込む\n",
    "wb = openpyxl.load_workbook(\"大学別男女総合成績用.xlsx\")\n",
    "ws = wb[\"2\"]  # 保存先のシート\n",
    "\n",
    "# Excelファイルを読み込む\n",
    "wb_result = openpyxl.load_workbook(\"リザルト2.xlsx\")\n",
    "ws_result = wb_result[\"Sheet1\"]  # データ元ファイル名とシート名\n",
    "\n",
    "# データを転記\n",
    "start_row = 17\n",
    "#リザルトの1位が開始する行\n",
    "num_rows = 30\n",
    "#男子は30女子は20\n",
    "\n",
    "input_row = 4\n",
    "for row in range(start_row, start_row + num_rows):  \n",
    "    ws.cell(input_row, 2).value = ws_result.cell(row,11).value  # 名前\n",
    "    ws.cell(input_row, 4).value = ws_result.cell(row, 18).value  # 学校名\n",
    "    input_row += 1  # 次の行へ\n",
    "\n",
    "# 保存\n",
    "wb.save(\"大学別男女総合成績用.xlsx\")\n",
    "print(\"データの転記が完了しました！\")"
   ]
  },
  {
   "cell_type": "code",
   "execution_count": 5,
   "metadata": {},
   "outputs": [
    {
     "name": "stdout",
     "output_type": "stream",
     "text": [
      "大学名の変換が完了しました！\n"
     ]
    }
   ],
   "source": [
    "import openpyxl\n",
    "\n",
    "# 大学名と対応番号の辞書\n",
    "university_dict = {\n",
    "    \"北海道大学\": 1, \"弘前大学\": 2, \"東北大学\": 3, \"秋田大学\": 4, \"山形大学\": 5,\n",
    "    \"筑波大学\": 6, \"群馬大学\": 7, \"千葉大学\": 8, \"東京大学\": 9, \"東京科学大学\": 10,\n",
    "    \"新潟大学\": 11, \"山梨大学\": 12, \"信州大学\": 13, \"旭川医科大学\": 14, \"札幌医科大学\": 15,\n",
    "    \"福島県立医科大学\": 16, \"岩手医科大学\": 17, \"東北医科薬科大学\": 18, \"自治医科大学\": 19, \"獨協医科大学\": 20,\n",
    "    \"埼玉医科大学\": 21, \"国際医療福祉大学\": 22, \"杏林大学\": 23, \"慶応義塾大学\": 24, \"順天堂大学\": 25,\n",
    "    \"昭和大学\": 26, \"帝京大学\": 27, \"東京医科大学\": 28, \"東京慈恵会医科大学\": 29, \"東京女子医科大学\": 30,\n",
    "    \"東邦大学\": 31, \"日本大学\": 32, \"日本医科大学\": 33, \"北里大学\": 34, \"聖マリアンナ医科大学\": 35, \"東海大学\": 36\n",
    "}\n",
    "\n",
    "# Excelファイル読み込み\n",
    "wb = openpyxl.load_workbook(\"大学別男女総合成績用.xlsx\")\n",
    "ws = wb[\"1\"]  # 操作するシート名\n",
    "\n",
    "# D4列目の大学名をチェックし、E5列目に対応する番号を入力\n",
    "for row in range(4, ws.max_row + 1):  # 4行目から最終行まで処理\n",
    "    university_name = ws.cell(row, 4).value  # D4列目の大学名を取得\n",
    "    \n",
    "    if university_name in university_dict:\n",
    "        ws.cell(row, 5).value = university_dict[university_name]  # E5列目に対応する番号を入力\n",
    "    else:\n",
    "        ws.cell(row, 5).value = \"\"  #空白にする\n",
    "\n",
    "# 保存\n",
    "wb.save(\"大学別男女総合成績用.xlsx\")\n",
    "print(\"大学名の変換が完了しました！\")"
   ]
  },
  {
   "cell_type": "code",
   "execution_count": 8,
   "metadata": {},
   "outputs": [
    {
     "name": "stdout",
     "output_type": "stream",
     "text": [
      "大学名の変換が完了しました！\n"
     ]
    }
   ],
   "source": [
    "import openpyxl\n",
    "\n",
    "# 大学名と対応番号の辞書\n",
    "university_dict = {\n",
    "    \"北海道大学\": 1, \"弘前大学\": 2, \"東北大学\": 3, \"秋田大学\": 4, \"山形大学\": 5,\n",
    "    \"筑波大学\": 6, \"群馬大学\": 7, \"千葉大学\": 8, \"東京大学\": 9, \"東京科学大学\": 10,\n",
    "    \"新潟大学\": 11, \"山梨大学\": 12, \"信州大学\": 13, \"旭川医科大学\": 14, \"札幌医科大学\": 15,\n",
    "    \"福島県立医科大学\": 16, \"岩手医科大学\": 17, \"東北医科薬科大学\": 18, \"自治医科大学\": 19, \"獨協医科大学\": 20,\n",
    "    \"埼玉医科大学\": 21, \"国際医療福祉大学\": 22, \"杏林大学\": 23, \"慶応義塾大学\": 24, \"順天堂大学\": 25,\n",
    "    \"昭和大学\": 26, \"帝京大学\": 27, \"東京医科大学\": 28, \"東京慈恵会医科大学\": 29, \"東京女子医科大学\": 30,\n",
    "    \"東邦大学\": 31, \"日本大学\": 32, \"日本医科大学\": 33, \"北里大学\": 34, \"聖マリアンナ医科大学\": 35, \"東海大学\": 36\n",
    "}\n",
    "\n",
    "# Excelファイル読み込み\n",
    "wb = openpyxl.load_workbook(\"大学別男女総合成績用.xlsx\")\n",
    "ws = wb[\"2\"]  # 操作するシート名\n",
    "\n",
    "# D4列目の大学名をチェックし、E5列目に対応する番号を入力\n",
    "for row in range(4, ws.max_row + 1):  # 4行目から最終行まで処理\n",
    "    university_name = ws.cell(row, 4).value  # D4列目の大学名を取得\n",
    "    \n",
    "    if university_name in university_dict:\n",
    "        ws.cell(row, 5).value = university_dict[university_name]  # E5列目に対応する番号を入力\n",
    "    else:\n",
    "        ws.cell(row, 5).value = \"\"  #空白にする\n",
    "\n",
    "# 保存\n",
    "wb.save(\"大学別男女総合成績用.xlsx\")\n",
    "print(\"大学名の変換が完了しました！\")"
   ]
  },
  {
   "cell_type": "code",
   "execution_count": 28,
   "metadata": {},
   "outputs": [
    {
     "name": "stdout",
     "output_type": "stream",
     "text": [
      "データの転記が完了しました！\n"
     ]
    }
   ],
   "source": [
    "import openpyxl\n",
    "\n",
    "# Excelファイルを読み込む\n",
    "wb = openpyxl.load_workbook(\"大学別男女総合成績用.xlsx\")\n",
    "ws = wb[\"3\"]  # 保存先のシート\n",
    "\n",
    "# Excelファイルを読み込む\n",
    "wb_result = openpyxl.load_workbook(\"女子GS.xlsx\")\n",
    "ws_result = wb_result[\"Sheet1\"]  # データ元ファイル名とシート名\n",
    "\n",
    "# データを転記\n",
    "start_row = 47\n",
    "#リザルトの1位が開始する行\n",
    "num_rows = 15\n",
    "#男子は30女子は20\n",
    "\n",
    "input_row = 4\n",
    "for row in range(start_row, start_row + num_rows):  \n",
    "    ws.cell(input_row, 2).value = ws_result.cell(row,13).value  # 名前\n",
    "    ws.cell(input_row, 3).value = ws_result.cell(row,22).value  # 名前\n",
    "    ws.cell(input_row, 4).value = ws_result.cell(row, 27).value  # 学校名\n",
    "    input_row += 1  # 次の行へ\n",
    "\n",
    "# 保存\n",
    "wb.save(\"大学別男女総合成績用.xlsx\")\n",
    "print(\"データの転記が完了しました！\")"
   ]
  },
  {
   "cell_type": "code",
   "execution_count": 29,
   "metadata": {},
   "outputs": [
    {
     "name": "stdout",
     "output_type": "stream",
     "text": [
      "データの転記が完了しました！\n"
     ]
    }
   ],
   "source": [
    "import openpyxl\n",
    "\n",
    "# Excelファイルを読み込む\n",
    "wb = openpyxl.load_workbook(\"大学別男女総合成績用.xlsx\")\n",
    "ws = wb[\"3\"]  # 保存先のシート\n",
    "\n",
    "# Excelファイルを読み込む\n",
    "wb_result = openpyxl.load_workbook(\"女子GS.xlsx\")\n",
    "ws_result = wb_result[\"Sheet1\"]  # データ元ファイル名とシート名\n",
    "\n",
    "# データを転記\n",
    "start_row = 85\n",
    "#リザルトの1位が開始する行\n",
    "num_rows = 5\n",
    "#男子は30女子は20\n",
    "\n",
    "input_row = 19\n",
    "for row in range(start_row, start_row + num_rows):  \n",
    "    ws.cell(input_row, 2).value = ws_result.cell(row,13).value  # 名前\n",
    "    ws.cell(input_row, 3).value = ws_result.cell(row,22).value  # 名前\n",
    "    ws.cell(input_row, 4).value = ws_result.cell(row, 27).value  # 学校名\n",
    "    input_row += 1  # 次の行へ\n",
    "\n",
    "# 保存\n",
    "wb.save(\"大学別男女総合成績用.xlsx\")\n",
    "print(\"データの転記が完了しました！\")"
   ]
  },
  {
   "cell_type": "code",
   "execution_count": 30,
   "metadata": {},
   "outputs": [
    {
     "name": "stdout",
     "output_type": "stream",
     "text": [
      "大学名の変換が完了しました！\n"
     ]
    }
   ],
   "source": [
    "import openpyxl\n",
    "\n",
    "# 大学名と対応番号の辞書\n",
    "university_dict = {\n",
    "    \"北海道大学\": 1, \"弘前大学\": 2, \"東北大学\": 3, \"秋田大学\": 4, \"山形大学\": 5,\n",
    "    \"筑波大学\": 6, \"群馬大学\": 7, \"千葉大学\": 8, \"東京大学\": 9, \"東京科学大学\": 10,\n",
    "    \"新潟大学\": 11, \"山梨大学\": 12, \"信州大学\": 13, \"旭川医科大学\": 14, \"札幌医科大学\": 15,\n",
    "    \"福島県立医科大学\": 16, \"岩手医科大学\": 17, \"東北医科薬科大学\": 18, \"自治医科大学\": 19, \"獨協医科大学\": 20,\n",
    "    \"埼玉医科大学\": 21, \"国際医療福祉大学\": 22, \"杏林大学\": 23, \"慶応義塾大学\": 24, \"順天堂大学\": 25,\n",
    "    \"昭和大学\": 26, \"帝京大学\": 27, \"東京医科大学\": 28, \"東京慈恵会医科大学\": 29, \"東京女子医科大学\": 30,\n",
    "    \"東邦大学\": 31, \"日本大学\": 32, \"日本医科大学\": 33, \"北里大学\": 34, \"聖マリアンナ医科大学\": 35, \"東海大学\": 36\n",
    "}\n",
    "\n",
    "# Excelファイル読み込み\n",
    "wb = openpyxl.load_workbook(\"大学別男女総合成績用.xlsx\")\n",
    "ws = wb[\"3\"]  # 操作するシート名\n",
    "\n",
    "# D4列目の大学名をチェックし、E5列目に対応する番号を入力\n",
    "for row in range(4, ws.max_row + 1):  # 4行目から最終行まで処理\n",
    "    university_name = ws.cell(row, 4).value  # D4列目の大学名を取得\n",
    "    \n",
    "    if university_name in university_dict:\n",
    "        ws.cell(row, 5).value = university_dict[university_name]  # E5列目に対応する番号を入力\n",
    "    else:\n",
    "        ws.cell(row, 5).value = \"\"  #空白にする\n",
    "\n",
    "# 保存\n",
    "wb.save(\"大学別男女総合成績用.xlsx\")\n",
    "print(\"大学名の変換が完了しました！\")"
   ]
  },
  {
   "cell_type": "code",
   "execution_count": 12,
   "metadata": {},
   "outputs": [
    {
     "name": "stdout",
     "output_type": "stream",
     "text": [
      "データの転記が完了しました！\n"
     ]
    }
   ],
   "source": [
    "import openpyxl\n",
    "\n",
    "# Excelファイルを読み込む\n",
    "wb = openpyxl.load_workbook(\"大学別男女総合成績用.xlsx\")\n",
    "ws = wb[\"6\"]  # 保存先のシート\n",
    "\n",
    "# Excelファイルを読み込む\n",
    "wb_result = openpyxl.load_workbook(\"男子GS.xlsx\")\n",
    "ws_result = wb_result[\"Sheet1\"]  # データ元ファイル名とシート名\n",
    "\n",
    "# データを転記\n",
    "start_row = 47\n",
    "#リザルトの1位が開始する行\n",
    "num_rows = 15\n",
    "#男子は30女子は20\n",
    "\n",
    "input_row = 4\n",
    "for row in range(start_row, start_row + num_rows):  \n",
    "    ws.cell(input_row, 2).value = ws_result.cell(row,13).value  # 名前\n",
    "    ws.cell(input_row, 3).value = ws_result.cell(row,22).value  # 名前\n",
    "    ws.cell(input_row, 4).value = ws_result.cell(row, 27).value  # 学校名\n",
    "    input_row += 1  # 次の行へ\n",
    "\n",
    "# 保存\n",
    "wb.save(\"大学別男女総合成績用.xlsx\")\n",
    "print(\"データの転記が完了しました！\")"
   ]
  },
  {
   "cell_type": "code",
   "execution_count": 13,
   "metadata": {},
   "outputs": [
    {
     "name": "stdout",
     "output_type": "stream",
     "text": [
      "データの転記が完了しました！\n"
     ]
    }
   ],
   "source": [
    "import openpyxl\n",
    "\n",
    "# Excelファイルを読み込む\n",
    "wb = openpyxl.load_workbook(\"大学別男女総合成績用.xlsx\")\n",
    "ws = wb[\"6\"]  # 保存先のシート\n",
    "\n",
    "# Excelファイルを読み込む\n",
    "wb_result = openpyxl.load_workbook(\"男子GS.xlsx\")\n",
    "ws_result = wb_result[\"Sheet1\"]  # データ元ファイル名とシート名\n",
    "\n",
    "# データを転記\n",
    "start_row = 85\n",
    "#リザルトの1位が開始する行\n",
    "num_rows = 15\n",
    "#男子は30女子は20\n",
    "\n",
    "input_row = 19\n",
    "for row in range(start_row, start_row + num_rows):  \n",
    "    ws.cell(input_row, 2).value = ws_result.cell(row,13).value  # 名前\n",
    "    ws.cell(input_row, 3).value = ws_result.cell(row,22).value  # 名前\n",
    "    ws.cell(input_row, 4).value = ws_result.cell(row, 27).value  # 学校名\n",
    "    input_row += 1  # 次の行へ\n",
    "\n",
    "# 保存\n",
    "wb.save(\"大学別男女総合成績用.xlsx\")\n",
    "print(\"データの転記が完了しました！\")"
   ]
  },
  {
   "cell_type": "code",
   "execution_count": 14,
   "metadata": {},
   "outputs": [
    {
     "name": "stdout",
     "output_type": "stream",
     "text": [
      "大学名の変換が完了しました！\n"
     ]
    }
   ],
   "source": [
    "import openpyxl\n",
    "\n",
    "# 大学名と対応番号の辞書\n",
    "university_dict = {\n",
    "    \"北海道大学\": 1, \"弘前大学\": 2, \"東北大学\": 3, \"秋田大学\": 4, \"山形大学\": 5,\n",
    "    \"筑波大学\": 6, \"群馬大学\": 7, \"千葉大学\": 8, \"東京大学\": 9, \"東京科学大学\": 10,\n",
    "    \"新潟大学\": 11, \"山梨大学\": 12, \"信州大学\": 13, \"旭川医科大学\": 14, \"札幌医科大学\": 15,\n",
    "    \"福島県立医科大学\": 16, \"岩手医科大学\": 17, \"東北医科薬科大学\": 18, \"自治医科大学\": 19, \"獨協医科大学\": 20,\n",
    "    \"埼玉医科大学\": 21, \"国際医療福祉大学\": 22, \"杏林大学\": 23, \"慶応義塾大学\": 24, \"順天堂大学\": 25,\n",
    "    \"昭和大学\": 26, \"帝京大学\": 27, \"東京医科大学\": 28, \"東京慈恵会医科大学\": 29, \"東京女子医科大学\": 30,\n",
    "    \"東邦大学\": 31, \"日本大学\": 32, \"日本医科大学\": 33, \"北里大学\": 34, \"聖マリアンナ医科大学\": 35, \"東海大学\": 36\n",
    "}\n",
    "\n",
    "# Excelファイル読み込み\n",
    "wb = openpyxl.load_workbook(\"大学別男女総合成績用.xlsx\")\n",
    "ws = wb[\"6\"]  # 操作するシート名\n",
    "\n",
    "# D4列目の大学名をチェックし、E5列目に対応する番号を入力\n",
    "for row in range(4, ws.max_row + 1):  # 4行目から最終行まで処理\n",
    "    university_name = ws.cell(row, 4).value  # D4列目の大学名を取得\n",
    "    \n",
    "    if university_name in university_dict:\n",
    "        ws.cell(row, 5).value = university_dict[university_name]  # E5列目に対応する番号を入力\n",
    "    else:\n",
    "        ws.cell(row, 5).value = \"\"  #空白にする\n",
    "\n",
    "# 保存\n",
    "wb.save(\"大学別男女総合成績用.xlsx\")\n",
    "print(\"大学名の変換が完了しました！\")"
   ]
  },
  {
   "cell_type": "code",
   "execution_count": 33,
   "metadata": {},
   "outputs": [
    {
     "name": "stdout",
     "output_type": "stream",
     "text": [
      "指定したシート (1, 3, 5, 7, 10) のe4:f23のデータを抽出し、学校コードごとの大学名を追加し、集計結果を 女子得点集計.xlsx に保存しました！\n"
     ]
    },
    {
     "name": "stderr",
     "output_type": "stream",
     "text": [
      "/var/folders/sb/kkckzq051qxcwhjc9llz_15r0000gn/T/ipykernel_77026/2862755727.py:45: FutureWarning: The behavior of DataFrame concatenation with empty or all-NA entries is deprecated. In a future version, this will no longer exclude empty or all-NA columns when determining the result dtypes. To retain the old behavior, exclude the relevant entries before the concat operation.\n",
      "  all_data_df = pd.concat(all_data, ignore_index=True)\n"
     ]
    }
   ],
   "source": [
    "import openpyxl\n",
    "import pandas as pd\n",
    "\n",
    "# Excelファイルのパス\n",
    "file_path = \"大学別男女総合成績用.xlsx\"\n",
    "\n",
    "# **特定のシート名を指定**\n",
    "target_sheets = [\"1\", \"3\", \"5\", \"7\", \"10\"]  # ここに処理したいシート名をリストで指定\n",
    "\n",
    "# **大学名と学校コードの辞書**\n",
    "university_dict = {\n",
    "    1: \"北海道大学\", 2: \"弘前大学\", 3: \"東北大学\", 4: \"秋田大学\", 5: \"山形大学\",\n",
    "    6: \"筑波大学\", 7: \"群馬大学\", 8: \"千葉大学\", 9: \"東京大学\", 10: \"東京科学大学\",\n",
    "    11: \"新潟大学\", 12: \"山梨大学\", 13: \"信州大学\", 14: \"旭川医科大学\", 15: \"札幌医科大学\",\n",
    "    16: \"福島県立医科大学\", 17: \"岩手医科大学\", 18: \"東北医科薬科大学\", 19: \"自治医科大学\", 20: \"獨協医科大学\",\n",
    "    21: \"埼玉医科大学\", 22: \"国際医療福祉大学\", 23: \"杏林大学\", 24: \"慶応義塾大学\", 25: \"順天堂大学\",\n",
    "    26: \"昭和大学\", 27: \"帝京大学\", 28: \"東京医科大学\", 29: \"東京慈恵会医科大学\", 30: \"東京女子医科大学\",\n",
    "    31: \"東邦大学\", 32: \"日本大学\", 33: \"日本医科大学\", 34: \"北里大学\", 35: \"聖マリアンナ医科大学\", 36: \"東海大学\"}\n",
    "\n",
    "# Excelファイルを開く\n",
    "wb = openpyxl.load_workbook(file_path)\n",
    "\n",
    "# 集計用のデータフレーム\n",
    "all_data = []\n",
    "\n",
    "# 指定したシートのみ処理\n",
    "for sheet_name in target_sheets:\n",
    "    if sheet_name in wb.sheetnames:  # シートが存在する場合のみ処理\n",
    "        ws = wb[sheet_name]  # シートを取得\n",
    "\n",
    "        # e4:f23のデータを取得\n",
    "        data = []\n",
    "        for row in range(4, 24):  # E4:F23\n",
    "            e_value = ws.cell(row=row, column=5).value  # e列の値（学校コード）\n",
    "            f_value = ws.cell(row=row, column=6).value  # f列の値（ポイント）\n",
    "            if e_value is not None and f_value is not None:\n",
    "                university_name = university_dict.get(e_value, \"不明\")  # 学校コードから大学名を取得\n",
    "                data.append([sheet_name, e_value, university_name, f_value])\n",
    "\n",
    "        # データフレームに追加\n",
    "        df = pd.DataFrame(data, columns=[\"競技\", \"学校コード\", \"大学名\", \"ポイント\"])\n",
    "        all_data.append(df)\n",
    "\n",
    "# すべてのデータを結合\n",
    "all_data_df = pd.concat(all_data, ignore_index=True)\n",
    "\n",
    "# e列ごとにf列を集計（合計 & カウント）\n",
    "summary_df = all_data_df.groupby([\"学校コード\", \"大学名\"])[\"ポイント\"].agg([\"sum\", \"count\"]).reset_index()\n",
    "\n",
    "# Excelに保存\n",
    "output_file = \"女子得点集計.xlsx\"\n",
    "with pd.ExcelWriter(output_file) as writer:\n",
    "    all_data_df.to_excel(writer, sheet_name=\"全データ\", index=False)\n",
    "    summary_df.to_excel(writer, sheet_name=\"集計結果\", index=False)\n",
    "\n",
    "print(f\"指定したシート ({', '.join(target_sheets)}) のe4:f23のデータを抽出し、学校コードごとの大学名を追加し、集計結果を {output_file} に保存しました！\")"
   ]
  },
  {
   "cell_type": "code",
   "execution_count": 27,
   "metadata": {},
   "outputs": [
    {
     "name": "stdout",
     "output_type": "stream",
     "text": [
      "指定したシート (2, 4, 6, 8, 9) のe4:f33のデータを抽出し、学校コードごとの大学名を追加し、集計結果を 男子得点集計.xlsx に保存しました！\n"
     ]
    },
    {
     "name": "stderr",
     "output_type": "stream",
     "text": [
      "/var/folders/sb/kkckzq051qxcwhjc9llz_15r0000gn/T/ipykernel_77026/4234050097.py:45: FutureWarning: The behavior of DataFrame concatenation with empty or all-NA entries is deprecated. In a future version, this will no longer exclude empty or all-NA columns when determining the result dtypes. To retain the old behavior, exclude the relevant entries before the concat operation.\n",
      "  all_data_df = pd.concat(all_data, ignore_index=True)\n"
     ]
    }
   ],
   "source": [
    "import openpyxl\n",
    "import pandas as pd\n",
    "\n",
    "# Excelファイルのパス\n",
    "file_path = \"大学別男女総合成績用.xlsx\"\n",
    "\n",
    "# **特定のシート名を指定**\n",
    "target_sheets = [\"2\", \"4\", \"6\", \"8\", \"9\"]  # ここに処理したいシート名をリストで指定\n",
    "\n",
    "# **大学名と学校コードの辞書**\n",
    "university_dict = {\n",
    "    1: \"北海道大学\", 2: \"弘前大学\", 3: \"東北大学\", 4: \"秋田大学\", 5: \"山形大学\",\n",
    "    6: \"筑波大学\", 7: \"群馬大学\", 8: \"千葉大学\", 9: \"東京大学\", 10: \"東京科学大学\",\n",
    "    11: \"新潟大学\", 12: \"山梨大学\", 13: \"信州大学\", 14: \"旭川医科大学\", 15: \"札幌医科大学\",\n",
    "    16: \"福島県立医科大学\", 17: \"岩手医科大学\", 18: \"東北医科薬科大学\", 19: \"自治医科大学\", 20: \"獨協医科大学\",\n",
    "    21: \"埼玉医科大学\", 22: \"国際医療福祉大学\", 23: \"杏林大学\", 24: \"慶応義塾大学\", 25: \"順天堂大学\",\n",
    "    26: \"昭和大学\", 27: \"帝京大学\", 28: \"東京医科大学\", 29: \"東京慈恵会医科大学\", 30: \"東京女子医科大学\",\n",
    "    31: \"東邦大学\", 32: \"日本大学\", 33: \"日本医科大学\", 34: \"北里大学\", 35: \"聖マリアンナ医科大学\", 36: \"東海大学\"}\n",
    "\n",
    "# Excelファイルを開く\n",
    "wb = openpyxl.load_workbook(file_path)\n",
    "\n",
    "# 集計用のデータフレーム\n",
    "all_data = []\n",
    "\n",
    "# 指定したシートのみ処理\n",
    "for sheet_name in target_sheets:\n",
    "    if sheet_name in wb.sheetnames:  # シートが存在する場合のみ処理\n",
    "        ws = wb[sheet_name]  # シートを取得\n",
    "\n",
    "        # e4:f23のデータを取得\n",
    "        data = []\n",
    "        for row in range(4, 34):  # E4:F33\n",
    "            e_value = ws.cell(row=row, column=5).value  # e列の値（学校コード）\n",
    "            f_value = ws.cell(row=row, column=6).value  # f列の値（ポイント）\n",
    "            if e_value is not None and f_value is not None:\n",
    "                university_name = university_dict.get(e_value, \"不明\")  # 学校コードから大学名を取得\n",
    "                data.append([sheet_name, e_value, university_name, f_value])\n",
    "\n",
    "        # データフレームに追加\n",
    "        df = pd.DataFrame(data, columns=[\"競技\", \"学校コード\", \"大学名\", \"ポイント\"])\n",
    "        all_data.append(df)\n",
    "\n",
    "# すべてのデータを結合\n",
    "all_data_df = pd.concat(all_data, ignore_index=True)\n",
    "\n",
    "# e列ごとにf列を集計（合計 & カウント）\n",
    "summary_df = all_data_df.groupby([\"学校コード\", \"大学名\"])[\"ポイント\"].agg([\"sum\", \"count\"]).reset_index()\n",
    "\n",
    "# Excelに保存\n",
    "output_file = \"男子得点集計.xlsx\"\n",
    "with pd.ExcelWriter(output_file) as writer:\n",
    "    all_data_df.to_excel(writer, sheet_name=\"全データ\", index=False)\n",
    "    summary_df.to_excel(writer, sheet_name=\"集計結果\", index=False)\n",
    "\n",
    "print(f\"指定したシート ({', '.join(target_sheets)}) のe4:f33のデータを抽出し、学校コードごとの大学名を追加し、集計結果を {output_file} に保存しました！\")"
   ]
  },
  {
   "cell_type": "code",
   "execution_count": 1,
   "metadata": {},
   "outputs": [
    {
     "name": "stdout",
     "output_type": "stream",
     "text": [
      "データの転記が完了しました！\n",
      "大学名の変換が完了しました！\n"
     ]
    }
   ],
   "source": [
    "import openpyxl\n",
    "\n",
    "# Excelファイルを読み込む\n",
    "wb = openpyxl.load_workbook(\"大学別男女総合成績用.xlsx\")\n",
    "ws = wb[\"8\"]  # 保存先のシート\n",
    "\n",
    "# Excelファイルを読み込む\n",
    "wb_result = openpyxl.load_workbook(\"男子ショート.xlsx\")\n",
    "ws_result = wb_result[\"Sheet1\"]  # データ元ファイル名とシート名\n",
    "\n",
    "# データを転記\n",
    "start_row = 17\n",
    "#リザルトの1位が開始する行\n",
    "num_rows = 6\n",
    "#男子は30女子は20\n",
    "\n",
    "input_row = 4\n",
    "for row in range(start_row, start_row + num_rows):  \n",
    "    ws.cell(input_row, 2).value = ws_result.cell(row,11).value  # 名前\n",
    "    ws.cell(input_row, 4).value = ws_result.cell(row, 18).value  # 学校名\n",
    "    input_row += 1  # 次の行へ\n",
    "\n",
    "# 保存\n",
    "wb.save(\"大学別男女総合成績用.xlsx\")\n",
    "print(\"データの転記が完了しました！\")\n",
    "\n",
    "# 大学名と対応番号の辞書\n",
    "university_dict = {\n",
    "    \"北海道大学\": 1, \"弘前大学\": 2, \"東北大学\": 3, \"秋田大学\": 4, \"山形大学\": 5,\n",
    "    \"筑波大学\": 6, \"群馬大学\": 7, \"千葉大学\": 8, \"東京大学\": 9, \"東京科学大学\": 10,\n",
    "    \"新潟大学\": 11, \"山梨大学\": 12, \"信州大学\": 13, \"旭川医科大学\": 14, \"札幌医科大学\": 15,\n",
    "    \"福島県立医科大学\": 16, \"岩手医科大学\": 17, \"東北医科薬科大学\": 18, \"自治医科大学\": 19, \"獨協医科大学\": 20,\n",
    "    \"埼玉医科大学\": 21, \"国際医療福祉大学\": 22, \"杏林大学\": 23, \"慶応義塾大学\": 24, \"順天堂大学\": 25,\n",
    "    \"昭和大学\": 26, \"帝京大学\": 27, \"東京医科大学\": 28, \"東京慈恵会医科大学\": 29, \"東京女子医科大学\": 30,\n",
    "    \"東邦大学\": 31, \"日本大学\": 32, \"日本医科大学\": 33, \"北里大学\": 34, \"聖マリアンナ医科大学\": 35, \"東海大学\": 36\n",
    "}\n",
    "\n",
    "# Excelファイル読み込み\n",
    "wb = openpyxl.load_workbook(\"大学別男女総合成績用.xlsx\")\n",
    "ws = wb[\"1\"]  # 操作するシート名\n",
    "\n",
    "# D4列目の大学名をチェックし、E5列目に対応する番号を入力\n",
    "for row in range(4, ws.max_row + 1):  # 4行目から最終行まで処理\n",
    "    university_name = ws.cell(row, 4).value  # D4列目の大学名を取得\n",
    "    \n",
    "    if university_name in university_dict:\n",
    "        ws.cell(row, 5).value = university_dict[university_name]  # E5列目に対応する番号を入力\n",
    "    else:\n",
    "        ws.cell(row, 5).value = \"\"  #空白にする\n",
    "\n",
    "# 保存\n",
    "wb.save(\"大学別男女総合成績用.xlsx\")\n",
    "print(\"大学名の変換が完了しました！\")"
   ]
  },
  {
   "cell_type": "code",
   "execution_count": 1,
   "metadata": {},
   "outputs": [
    {
     "name": "stdout",
     "output_type": "stream",
     "text": [
      "データの転記が完了しました！\n",
      "大学名の変換が完了しました！\n"
     ]
    }
   ],
   "source": [
    "import openpyxl\n",
    "\n",
    "# Excelファイルを読み込む\n",
    "wb = openpyxl.load_workbook(\"大学別男女総合成績用.xlsx\")\n",
    "ws = wb[\"7\"]  # 保存先のシート\n",
    "\n",
    "# Excelファイルを読み込む\n",
    "wb_result = openpyxl.load_workbook(\"女子SL.xlsx\")\n",
    "ws_result = wb_result[\"Sheet1\"]  # データ元ファイル名とシート名\n",
    "\n",
    "# データを転記\n",
    "start_row = 47\n",
    "#リザルトの1位が開始する行\n",
    "num_rows = 20\n",
    "#男子は30女子は20\n",
    "\n",
    "input_row = 4\n",
    "for row in range(start_row, start_row + num_rows):  \n",
    "    ws.cell(input_row, 2).value = ws_result.cell(row,13).value  # 名前\n",
    "    ws.cell(input_row, 3).value = ws_result.cell(row,22).value  # 名前\n",
    "    ws.cell(input_row, 4).value = ws_result.cell(row, 27).value  # 学校名\n",
    "    input_row += 1  # 次の行へ\n",
    "\n",
    "# 保存\n",
    "wb.save(\"大学別男女総合成績用.xlsx\")\n",
    "print(\"データの転記が完了しました！\")\n",
    "\n",
    "# 大学名と対応番号の辞書\n",
    "university_dict = {\n",
    "    \"北海道大学\": 1, \"弘前大学\": 2, \"東北大学\": 3, \"秋田大学\": 4, \"山形大学\": 5,\n",
    "    \"筑波大学\": 6, \"群馬大学\": 7, \"千葉大学\": 8, \"東京大学\": 9, \"東京科学大学\": 10,\n",
    "    \"新潟大学\": 11, \"山梨大学\": 12, \"信州大学\": 13, \"旭川医科大学\": 14, \"札幌医科大学\": 15,\n",
    "    \"福島県立医科大学\": 16, \"岩手医科大学\": 17, \"東北医科薬科大学\": 18, \"自治医科大学\": 19, \"獨協医科大学\": 20,\n",
    "    \"埼玉医科大学\": 21, \"国際医療福祉大学\": 22, \"杏林大学\": 23, \"慶応義塾大学\": 24, \"順天堂大学\": 25,\n",
    "    \"昭和大学\": 26, \"帝京大学\": 27, \"東京医科大学\": 28, \"東京慈恵会医科大学\": 29, \"東京女子医科大学\": 30,\n",
    "    \"東邦大学\": 31, \"日本大学\": 32, \"日本医科大学\": 33, \"北里大学\": 34, \"聖マリアンナ医科大学\": 35, \"東海大学\": 36\n",
    "}\n",
    "\n",
    "# Excelファイル読み込み\n",
    "wb = openpyxl.load_workbook(\"大学別男女総合成績用.xlsx\")\n",
    "ws = wb[\"7\"]  # 操作するシート名\n",
    "\n",
    "# D4列目の大学名をチェックし、E5列目に対応する番号を入力\n",
    "for row in range(4, ws.max_row + 1):  # 4行目から最終行まで処理\n",
    "    university_name = ws.cell(row, 4).value  # D4列目の大学名を取得\n",
    "    \n",
    "    if university_name in university_dict:\n",
    "        ws.cell(row, 5).value = university_dict[university_name]  # E5列目に対応する番号を入力\n",
    "    else:\n",
    "        ws.cell(row, 5).value = \"\"  #空白にする\n",
    "\n",
    "# 保存\n",
    "wb.save(\"大学別男女総合成績用.xlsx\")\n",
    "print(\"大学名の変換が完了しました！\")"
   ]
  },
  {
   "cell_type": "code",
   "execution_count": 25,
   "metadata": {},
   "outputs": [
    {
     "name": "stdout",
     "output_type": "stream",
     "text": [
      "データの転記が完了しました！\n"
     ]
    }
   ],
   "source": [
    "import openpyxl\n",
    "\n",
    "# Excelファイルを読み込む\n",
    "wb = openpyxl.load_workbook(\"入賞者リスト.xlsx\")\n",
    "ws = wb[\"女子SL\"]  # 保存先のシート\n",
    "\n",
    "# Excelファイルを読み込む\n",
    "wb_result = openpyxl.load_workbook(\"女子SL.xlsx\")\n",
    "ws_result = wb_result[\"Sheet1\"]  # データ元ファイル名とシート名\n",
    "\n",
    "# データを転記\n",
    "start_row = 47\n",
    "#リザルトの1位が開始する行\n",
    "num_rows = 6\n",
    "#男子は30女子は20\n",
    "\n",
    "input_row = 4\n",
    "for row in range(start_row, start_row + num_rows):  \n",
    "    ws.cell(input_row, 2).value = ws_result.cell(row,13).value  # 名前\n",
    "    ws.cell(input_row, 3).value = ws_result.cell(row,22).value  # 名前\n",
    "    ws.cell(input_row, 4).value = ws_result.cell(row, 27).value  # 学校名\n",
    "    input_row += 1  # 次の行へ\n",
    "\n",
    "# 保存\n",
    "wb.save(\"入賞者リスト.xlsx\")\n",
    "print(\"データの転記が完了しました！\")"
   ]
  },
  {
   "cell_type": "code",
   "execution_count": 26,
   "metadata": {},
   "outputs": [
    {
     "name": "stdout",
     "output_type": "stream",
     "text": [
      "データの転記が完了しました！\n"
     ]
    }
   ],
   "source": [
    "import openpyxl\n",
    "\n",
    "# Excelファイルを読み込む\n",
    "wb = openpyxl.load_workbook(\"入賞者リスト.xlsx\")\n",
    "ws = wb[\"男子ショート\"]  # 保存先のシート\n",
    "\n",
    "# Excelファイルを読み込む\n",
    "wb_result = openpyxl.load_workbook(\"男子ショート.xlsx\")\n",
    "ws_result = wb_result[\"Sheet1\"]  # データ元ファイル名とシート名\n",
    "\n",
    "# データを転記\n",
    "start_row = 17\n",
    "#リザルトの1位が開始する行\n",
    "num_rows = 6\n",
    "#男子は30女子は20\n",
    "\n",
    "input_row = 4\n",
    "for row in range(start_row, start_row + num_rows):  \n",
    "    ws.cell(input_row, 2).value = ws_result.cell(row,11).value  # 名前\n",
    "    ws.cell(input_row, 4).value = ws_result.cell(row, 18).value  # 学校名\n",
    "    input_row += 1  # 次の行へ\n",
    "\n",
    "# 保存\n",
    "wb.save(\"入賞者リスト.xlsx\")\n",
    "print(\"データの転記が完了しました！\")"
   ]
  },
  {
   "cell_type": "code",
   "execution_count": 27,
   "metadata": {},
   "outputs": [],
   "source": [
    "import openpyxl\n",
    "\n",
    "# Excelファイルを読み込む\n",
    "wb = openpyxl.load_workbook(\"入賞者リスト.xlsx\")\n",
    "ws = wb[\"女子スプリント\"]  # 保存先のシート\n",
    "\n",
    "# Excelファイルを読み込む\n",
    "wb_result = openpyxl.load_workbook(\"女子スプリント.xlsx\")\n",
    "ws_result = wb_result[\"Sheet1\"]  # データ元ファイル名とシート名\n",
    "\n",
    "# データを転記\n",
    "start_row = 17\n",
    "#リザルトの1位が開始する行\n",
    "num_rows = 6\n",
    "#男子は30女子は20\n",
    "\n",
    "input_row = 4\n",
    "for row in range(start_row, start_row + num_rows):  \n",
    "    ws.cell(input_row, 2).value = ws_result.cell(row,11).value  # 名前\n",
    "    ws.cell(input_row, 4).value = ws_result.cell(row, 18).value  # 学校名\n",
    "    input_row += 1  # 次の行へ"
   ]
  },
  {
   "cell_type": "code",
   "execution_count": 28,
   "metadata": {},
   "outputs": [
    {
     "name": "stdout",
     "output_type": "stream",
     "text": [
      "データの転記が完了しました！\n"
     ]
    }
   ],
   "source": [
    "import openpyxl\n",
    "\n",
    "# Excelファイルを読み込む\n",
    "wb = openpyxl.load_workbook(\"入賞者リスト.xlsx\")\n",
    "ws = wb[\"男子スプリント\"]  # 保存先のシート\n",
    "\n",
    "# Excelファイルを読み込む\n",
    "wb_result = openpyxl.load_workbook(\"男子スプリント.xlsx\")\n",
    "ws_result = wb_result[\"Sheet1\"]  # データ元ファイル名とシート名\n",
    "\n",
    "# データを転記\n",
    "start_row = 17\n",
    "#リザルトの1位が開始する行\n",
    "num_rows = 6\n",
    "#男子は30女子は20\n",
    "\n",
    "input_row = 4\n",
    "for row in range(start_row, start_row + num_rows):  \n",
    "    ws.cell(input_row, 2).value = ws_result.cell(row,11).value  # 名前\n",
    "    ws.cell(input_row, 4).value = ws_result.cell(row, 18).value  # 学校名\n",
    "    input_row += 1  # 次の行へ\n",
    "\n",
    "# 保存\n",
    "wb.save(\"入賞者リスト.xlsx\")\n",
    "print(\"データの転記が完了しました！\")"
   ]
  }
 ],
 "metadata": {
  "kernelspec": {
   "display_name": "myenv",
   "language": "python",
   "name": "python3"
  },
  "language_info": {
   "codemirror_mode": {
    "name": "ipython",
    "version": 3
   },
   "file_extension": ".py",
   "mimetype": "text/x-python",
   "name": "python",
   "nbconvert_exporter": "python",
   "pygments_lexer": "ipython3",
   "version": "3.13.1"
  }
 },
 "nbformat": 4,
 "nbformat_minor": 2
}
