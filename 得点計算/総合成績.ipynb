{
 "cells": [
  {
   "cell_type": "code",
   "execution_count": 2,
   "metadata": {},
   "outputs": [
    {
     "name": "stdout",
     "output_type": "stream",
     "text": [
      "データの転記が完了しました！\n"
     ]
    }
   ],
   "source": [
    "import openpyxl\n",
    "\n",
    "# Excelファイルを読み込む\n",
    "wb = openpyxl.load_workbook(\"大学別男女総合成績用.xlsx\")\n",
    "ws = wb[\"1\"]  # 保存先のシート\n",
    "\n",
    "# Excelファイルを読み込む\n",
    "wb_result = openpyxl.load_workbook(\"リザルト1.xlsx\")\n",
    "ws_result = wb_result[\"Sheet1\"]  # データ元ファイル名とシート名\n",
    "\n",
    "# データを転記\n",
    "start_row = 17\n",
    "#リザルトの1位が開始する行\n",
    "num_rows = 20\n",
    "#男子は30女子は20\n",
    "\n",
    "input_row = 4\n",
    "for row in range(start_row, start_row + num_rows):  \n",
    "    ws.cell(input_row, 2).value = ws_result.cell(row,11).value  # 名前\n",
    "    ws.cell(input_row, 4).value = ws_result.cell(row, 18).value  # 学校名\n",
    "    input_row += 1  # 次の行へ\n",
    "\n",
    "# 保存\n",
    "wb.save(\"大学別男女総合成績用.xlsx\")\n",
    "print(\"データの転記が完了しました！\")"
   ]
  },
  {
   "cell_type": "code",
   "execution_count": 7,
   "metadata": {},
   "outputs": [
    {
     "name": "stdout",
     "output_type": "stream",
     "text": [
      "データの転記が完了しました！\n"
     ]
    }
   ],
   "source": [
    "import openpyxl\n",
    "\n",
    "# Excelファイルを読み込む\n",
    "wb = openpyxl.load_workbook(\"大学別男女総合成績用.xlsx\")\n",
    "ws = wb[\"2\"]  # 保存先のシート\n",
    "\n",
    "# Excelファイルを読み込む\n",
    "wb_result = openpyxl.load_workbook(\"リザルト2.xlsx\")\n",
    "ws_result = wb_result[\"Sheet1\"]  # データ元ファイル名とシート名\n",
    "\n",
    "# データを転記\n",
    "start_row = 17\n",
    "#リザルトの1位が開始する行\n",
    "num_rows = 30\n",
    "#男子は30女子は20\n",
    "\n",
    "input_row = 4\n",
    "for row in range(start_row, start_row + num_rows):  \n",
    "    ws.cell(input_row, 2).value = ws_result.cell(row,11).value  # 名前\n",
    "    ws.cell(input_row, 4).value = ws_result.cell(row, 18).value  # 学校名\n",
    "    input_row += 1  # 次の行へ\n",
    "\n",
    "# 保存\n",
    "wb.save(\"大学別男女総合成績用.xlsx\")\n",
    "print(\"データの転記が完了しました！\")"
   ]
  },
  {
   "cell_type": "code",
   "execution_count": 5,
   "metadata": {},
   "outputs": [
    {
     "name": "stdout",
     "output_type": "stream",
     "text": [
      "大学名の変換が完了しました！\n"
     ]
    }
   ],
   "source": [
    "import openpyxl\n",
    "\n",
    "# 大学名と対応番号の辞書\n",
    "university_dict = {\n",
    "    \"北海道大学\": 1, \"弘前大学\": 2, \"東北大学\": 3, \"秋田大学\": 4, \"山形大学\": 5,\n",
    "    \"筑波大学\": 6, \"群馬大学\": 7, \"千葉大学\": 8, \"東京大学\": 9, \"東京科学大学\": 10,\n",
    "    \"新潟大学\": 11, \"山梨大学\": 12, \"信州大学\": 13, \"旭川医科大学\": 14, \"札幌医科大学\": 15,\n",
    "    \"福島県立医科大学\": 16, \"岩手医科大学\": 17, \"東北医科薬科大学\": 18, \"自治医科大学\": 19, \"獨協医科大学\": 20,\n",
    "    \"埼玉医科大学\": 21, \"国際医療福祉大学\": 22, \"杏林大学\": 23, \"慶応義塾大学\": 24, \"順天堂大学\": 25,\n",
    "    \"昭和大学\": 26, \"帝京大学\": 27, \"東京医科大学\": 28, \"東京慈恵会医科大学\": 29, \"東京女子医科大学\": 30,\n",
    "    \"東邦大学\": 31, \"日本大学\": 32, \"日本医科大学\": 33, \"北里大学\": 34, \"聖マリアンナ医科大学\": 35, \"東海大学\": 36\n",
    "}\n",
    "\n",
    "# Excelファイル読み込み\n",
    "wb = openpyxl.load_workbook(\"大学別男女総合成績用.xlsx\")\n",
    "ws = wb[\"1\"]  # 操作するシート名\n",
    "\n",
    "# D4列目の大学名をチェックし、E5列目に対応する番号を入力\n",
    "for row in range(4, ws.max_row + 1):  # 4行目から最終行まで処理\n",
    "    university_name = ws.cell(row, 4).value  # D4列目の大学名を取得\n",
    "    \n",
    "    if university_name in university_dict:\n",
    "        ws.cell(row, 5).value = university_dict[university_name]  # E5列目に対応する番号を入力\n",
    "    else:\n",
    "        ws.cell(row, 5).value = \"\"  #空白にする\n",
    "\n",
    "# 保存\n",
    "wb.save(\"大学別男女総合成績用.xlsx\")\n",
    "print(\"大学名の変換が完了しました！\")"
   ]
  },
  {
   "cell_type": "code",
   "execution_count": 8,
   "metadata": {},
   "outputs": [
    {
     "name": "stdout",
     "output_type": "stream",
     "text": [
      "大学名の変換が完了しました！\n"
     ]
    }
   ],
   "source": [
    "import openpyxl\n",
    "\n",
    "# 大学名と対応番号の辞書\n",
    "university_dict = {\n",
    "    \"北海道大学\": 1, \"弘前大学\": 2, \"東北大学\": 3, \"秋田大学\": 4, \"山形大学\": 5,\n",
    "    \"筑波大学\": 6, \"群馬大学\": 7, \"千葉大学\": 8, \"東京大学\": 9, \"東京科学大学\": 10,\n",
    "    \"新潟大学\": 11, \"山梨大学\": 12, \"信州大学\": 13, \"旭川医科大学\": 14, \"札幌医科大学\": 15,\n",
    "    \"福島県立医科大学\": 16, \"岩手医科大学\": 17, \"東北医科薬科大学\": 18, \"自治医科大学\": 19, \"獨協医科大学\": 20,\n",
    "    \"埼玉医科大学\": 21, \"国際医療福祉大学\": 22, \"杏林大学\": 23, \"慶応義塾大学\": 24, \"順天堂大学\": 25,\n",
    "    \"昭和大学\": 26, \"帝京大学\": 27, \"東京医科大学\": 28, \"東京慈恵会医科大学\": 29, \"東京女子医科大学\": 30,\n",
    "    \"東邦大学\": 31, \"日本大学\": 32, \"日本医科大学\": 33, \"北里大学\": 34, \"聖マリアンナ医科大学\": 35, \"東海大学\": 36\n",
    "}\n",
    "\n",
    "# Excelファイル読み込み\n",
    "wb = openpyxl.load_workbook(\"大学別男女総合成績用.xlsx\")\n",
    "ws = wb[\"2\"]  # 操作するシート名\n",
    "\n",
    "# D4列目の大学名をチェックし、E5列目に対応する番号を入力\n",
    "for row in range(4, ws.max_row + 1):  # 4行目から最終行まで処理\n",
    "    university_name = ws.cell(row, 4).value  # D4列目の大学名を取得\n",
    "    \n",
    "    if university_name in university_dict:\n",
    "        ws.cell(row, 5).value = university_dict[university_name]  # E5列目に対応する番号を入力\n",
    "    else:\n",
    "        ws.cell(row, 5).value = \"\"  #空白にする\n",
    "\n",
    "# 保存\n",
    "wb.save(\"大学別男女総合成績用.xlsx\")\n",
    "print(\"大学名の変換が完了しました！\")"
   ]
  }
 ],
 "metadata": {
  "kernelspec": {
   "display_name": "myenv",
   "language": "python",
   "name": "python3"
  },
  "language_info": {
   "codemirror_mode": {
    "name": "ipython",
    "version": 3
   },
   "file_extension": ".py",
   "mimetype": "text/x-python",
   "name": "python",
   "nbconvert_exporter": "python",
   "pygments_lexer": "ipython3",
   "version": "3.13.1"
  }
 },
 "nbformat": 4,
 "nbformat_minor": 2
}
