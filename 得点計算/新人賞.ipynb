{
 "cells": [
  {
   "cell_type": "code",
   "execution_count": 11,
   "metadata": {},
   "outputs": [
    {
     "name": "stdout",
     "output_type": "stream",
     "text": [
      "39列目が '1' のデータのみを転記し、新人リザルト.xlsx に保存しました！\n"
     ]
    }
   ],
   "source": [
    "import openpyxl\n",
    "\n",
    "# 元のExcelファイル（データ元）を読み込む\n",
    "wb_source = openpyxl.load_workbook(\"リザルト2.xlsx\")\n",
    "ws_source = wb_source[\"Sheet1\"]  # 元データのシート\n",
    "\n",
    "# 書き込むExcelファイル（事前に作成済み）を開く\n",
    "wb_target = openpyxl.load_workbook(\"新人リザルト.xlsx\")\n",
    "ws_target = wb_target[\"2\"]  # 書き込み先のシート\n",
    "\n",
    "start_row = 47  # リザルトの開始行\n",
    "num_rows = 20   # 転記する行数（男子30人, 女子20人）\n",
    "\n",
    "# 指定した列のデータをコピー\n",
    "input_row = 4  # 4行目から書き込み開始\n",
    "for row in range(start_row, start_row + num_rows):\n",
    "    if ws_source.cell(row, 39).value == \"1\":  # 39列目の値が 1 の場合のみコピー\n",
    "        ws_target.cell(input_row, 1).value = ws_source.cell(row, 3).value  # 13列目の値\n",
    "        ws_target.cell(input_row, 2).value = ws_source.cell(row, 13).value  # 13列目の値\n",
    "        ws_target.cell(input_row, 3).value = ws_source.cell(row, 39).value  # 39列目の値\n",
    "        ws_target.cell(input_row, 4).value = ws_source.cell(row, 27).value  # 27列目の値\n",
    "        input_row += 1  # 次の行へ\n",
    "\n",
    "# 保存\n",
    "wb_target.save(\"新人リザルト.xlsx\")\n",
    "print(\"39列目が '1' のデータのみを転記し、新人リザルト.xlsx に保存しました！\")"
   ]
  }
 ],
 "metadata": {
  "kernelspec": {
   "display_name": "myenv",
   "language": "python",
   "name": "python3"
  },
  "language_info": {
   "codemirror_mode": {
    "name": "ipython",
    "version": 3
   },
   "file_extension": ".py",
   "mimetype": "text/x-python",
   "name": "python",
   "nbconvert_exporter": "python",
   "pygments_lexer": "ipython3",
   "version": "3.13.1"
  }
 },
 "nbformat": 4,
 "nbformat_minor": 2
}
